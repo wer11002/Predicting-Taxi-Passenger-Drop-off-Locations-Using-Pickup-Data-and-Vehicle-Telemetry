{
 "cells": [
  {
   "cell_type": "markdown",
   "id": "aa2c6eef",
   "metadata": {},
   "source": [
    "# add header"
   ]
  },
  {
   "cell_type": "code",
   "execution_count": 1,
   "id": "ce0c4fc2",
   "metadata": {},
   "outputs": [
    {
     "name": "stdout",
     "output_type": "stream",
     "text": [
      "File converted to taxi.csv with header\n"
     ]
    }
   ],
   "source": [
    "import pandas as pd\n",
    "\n",
    "# Read the .out file\n",
    "df = pd.read_csv(\"20170101.csv.out\", header=None, delimiter=\",\")  # header=None treats first row as data\n",
    "\n",
    "# Define the column names\n",
    "columns = [\"vehicle_id\", \"gpsvalid\", \"lat\", \"lon\", \"timestamp\", \"speed\", \"heading\", \"for_hire_light\", \"engine_acc\"]\n",
    "\n",
    "# Assign the column names to the dataframe\n",
    "df.columns = columns\n",
    "\n",
    "# Save as a proper CSV with header\n",
    "df.to_csv(\"taxi.csv\", index=False)\n",
    "\n",
    "print(\"File converted to taxi.csv with header\")\n"
   ]
  },
  {
   "cell_type": "markdown",
   "id": "b2e769c5",
   "metadata": {},
   "source": [
    "# cleaning part"
   ]
  },
  {
   "cell_type": "code",
   "execution_count": null,
   "id": "f3137aa7",
   "metadata": {},
   "outputs": [],
   "source": [
    "import pandas as pd\n",
    "\n",
    "df = pd.read_csv(\"taxi.csv\")\n",
    "\n",
    "# Step 1: Group and filter like you already did\n",
    "dup_all_zero = (\n",
    "    df.groupby(\"vehicle_id\")\n",
    "      .agg(\n",
    "          count_rows=(\"speed\", \"size\"),\n",
    "          all_zero=(\"speed\", lambda x: (x == 0).all())\n",
    "      )\n",
    ")\n",
    "\n",
    "dup_all_zero = dup_all_zero[(dup_all_zero[\"all_zero\"]) & (dup_all_zero[\"count_rows\"] > 1)]\n",
    "\n",
    "# Step 2: Save to all_speed_is_0.csv\n",
    "\n",
    "# Step 3: Drop rows in df where vehicle_id is in broke_car list\n",
    "df = df[~df[\"vehicle_id\"].isin(dup_all_zero.index)]\n",
    "\n",
    "# Step 4: Overwrite original file (permanent)\n",
    "df.to_csv(\"vehicle_data_clean.csv\", index=False)"
   ]
  },
  {
   "cell_type": "code",
   "execution_count": 12,
   "id": "95d1ce1d",
   "metadata": {},
   "outputs": [
    {
     "name": "stdout",
     "output_type": "stream",
     "text": [
      "Vehicles that never got any customer: 431\n",
      "how manu row left 2030108\n",
      "Filtered CSV saved as 'vehicle_data_filtered.csv' with 2030108 rows.\n"
     ]
    }
   ],
   "source": [
    "import pandas as pd\n",
    "\n",
    "# Step 1: Load your CSV\n",
    "df = pd.read_csv(\"vehicle_data_clean.csv\")\n",
    "\n",
    "# Step 2: Identify vehicles that never got a customer\n",
    "# for_hire_light = 1 means the taxi had no passenger (for hire), \n",
    "# so we check if it ever switched to 1 -> 0 (got a customer)\n",
    "vehicles_never_hired = df.groupby(\"vehicle_id\")[\"for_hire_light\"].max()\n",
    "vehicles_never_hired = vehicles_never_hired[vehicles_never_hired == 0].index.tolist()\n",
    "\n",
    "print(\"Vehicles that never got any customer:\", len(vehicles_never_hired))\n",
    "# Step 3: Remove these vehicles from the dataframe\n",
    "df_filtered = df[~df[\"vehicle_id\"].isin(vehicles_never_hired)]\n",
    "print(\"how manu row left\",len(df_filtered))\n",
    "# Step 4: Save the filtered dataframe to a new CSV\n",
    "df_filtered.to_csv(\"vehicle_data_clean.csv\", index=False)\n",
    "\n",
    "print(f\"Filtered CSV saved as 'vehicle_data_filtered.csv' with {len(df_filtered)} rows.\")\n"
   ]
  },
  {
   "cell_type": "code",
   "execution_count": 13,
   "id": "6cb933fd",
   "metadata": {},
   "outputs": [
    {
     "name": "stdout",
     "output_type": "stream",
     "text": [
      "NaN counts per column before dropping:\n",
      "vehicle_id        0\n",
      "gpsvalid          0\n",
      "lat               0\n",
      "lon               0\n",
      "timestamp         0\n",
      "speed             0\n",
      "heading           0\n",
      "for_hire_light    0\n",
      "engine_acc        0\n",
      "dtype: int64\n",
      "\n",
      "Total NaN values before dropping: 0\n",
      "\n",
      "NaN counts per column after dropping:\n",
      "vehicle_id        0\n",
      "gpsvalid          0\n",
      "lat               0\n",
      "lon               0\n",
      "timestamp         0\n",
      "speed             0\n",
      "heading           0\n",
      "for_hire_light    0\n",
      "engine_acc        0\n",
      "dtype: int64\n",
      "\n",
      "Total NaN values after dropping: 0\n"
     ]
    }
   ],
   "source": [
    "import pandas as pd\n",
    "\n",
    "# Load dataset\n",
    "df = pd.read_csv(\"vehicle_data_clean.csv\")\n",
    "\n",
    "# Step 1: Check NaN counts\n",
    "print(\"NaN counts per column before dropping:\")\n",
    "print(df.isna().sum())\n",
    "print(\"\\nTotal NaN values before dropping:\", df.isna().sum().sum())\n",
    "\n",
    "# Step 2: Drop all rows that contain any NaN\n",
    "df_clean = df.dropna()\n",
    "\n",
    "# Step 3: Check again after cleaning\n",
    "print(\"\\nNaN counts per column after dropping:\")\n",
    "print(df_clean.isna().sum())\n",
    "print(\"\\nTotal NaN values after dropping:\", df_clean.isna().sum().sum())\n",
    "\n",
    "# (Optional) Save cleaned dataset\n",
    "df_clean.to_csv(\"vehicle_data_clean.csv\", index=False)"
   ]
  },
  {
   "cell_type": "code",
   "execution_count": 15,
   "id": "1c4b291f",
   "metadata": {},
   "outputs": [],
   "source": [
    "# Remove rows where speed > 300\n",
    "df = df[df[\"speed\"] <= 300].reset_index(drop=True)\n",
    "\n",
    "# Save cleaned dataset to a new CSV\n",
    "df.to_csv(\"vehicle_data_clean.csv\", index=False)"
   ]
  },
  {
   "cell_type": "markdown",
   "id": "6e6608ea",
   "metadata": {},
   "source": [
    "# feature engineer part build training set"
   ]
  },
  {
   "cell_type": "code",
   "execution_count": null,
   "id": "cc5abf64",
   "metadata": {},
   "outputs": [],
   "source": []
  }
 ],
 "metadata": {
  "kernelspec": {
   "display_name": "base",
   "language": "python",
   "name": "python3"
  },
  "language_info": {
   "codemirror_mode": {
    "name": "ipython",
    "version": 3
   },
   "file_extension": ".py",
   "mimetype": "text/x-python",
   "name": "python",
   "nbconvert_exporter": "python",
   "pygments_lexer": "ipython3",
   "version": "3.13.5"
  }
 },
 "nbformat": 4,
 "nbformat_minor": 5
}
